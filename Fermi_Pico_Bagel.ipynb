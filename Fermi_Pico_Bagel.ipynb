{
  "nbformat": 4,
  "nbformat_minor": 0,
  "metadata": {
    "colab": {
      "provenance": [],
      "authorship_tag": "ABX9TyPv3w/uRxZyH+C7x1Mv8w0b",
      "include_colab_link": true
    },
    "kernelspec": {
      "name": "python3",
      "display_name": "Python 3"
    },
    "language_info": {
      "name": "python"
    }
  },
  "cells": [
    {
      "cell_type": "markdown",
      "metadata": {
        "id": "view-in-github",
        "colab_type": "text"
      },
      "source": [
        "<a href=\"https://colab.research.google.com/github/ParthDhengle/PYTHON-project-2/blob/main/Fermi_Pico_Bagel.ipynb\" target=\"_parent\"><img src=\"https://colab.research.google.com/assets/colab-badge.svg\" alt=\"Open In Colab\"/></a>"
      ]
    },
    {
      "cell_type": "code",
      "source": [
        "def generate_org_num(n):\n",
        "  import random\n",
        "  # org_num generation\n",
        "  digits = [0,1,2,3,4,5,6,7,8,9]\n",
        "\n",
        "  random.shuffle(digits)\n",
        "  org_num = digits[:n]\n",
        "\n",
        "  return org_num"
      ],
      "metadata": {
        "id": "TB_Z-wOi5YmL"
      },
      "execution_count": null,
      "outputs": []
    },
    {
      "cell_type": "code",
      "source": [
        "org_num = generate_org_num(4)\n",
        "org_num"
      ],
      "metadata": {
        "colab": {
          "base_uri": "https://localhost:8080/"
        },
        "id": "moKd_aCr7B2k",
        "outputId": "ed8a158e-c375-4afe-ba7b-ac64e215bda1"
      },
      "execution_count": null,
      "outputs": [
        {
          "output_type": "execute_result",
          "data": {
            "text/plain": [
              "[2, 3, 4, 0]"
            ]
          },
          "metadata": {},
          "execution_count": 29
        }
      ]
    },
    {
      "cell_type": "code",
      "source": [
        "# game loop\n",
        "while True:\n",
        "    # guess_num generation\n",
        "    guess_num = list(input('Enter the guess number:- '))\n",
        "\n",
        "    # no of digits match check\n",
        "    if len(guess_num) != len(org_num):\n",
        "      print('Check length of guess number!!!')\n",
        "\n",
        "      # repeated digit condtion check\n",
        "      if len(set(guess_num)) ==1 or len(set(guess_num))==2:\n",
        "        print('Digit is repeated!!!')\n",
        "\n",
        "    else:\n",
        "\n",
        "      # result string\n",
        "      output = ''\n",
        "\n",
        "      for i in range(len(guess_num)):\n",
        "\n",
        "        # main logic of the game\n",
        "        if int(guess_num[i]) == org_num[i]:\n",
        "            output += 'Fermi '\n",
        "        elif int(guess_num[i]) in org_num:\n",
        "          output += 'Pico '\n",
        "\n",
        "      if len(output)==0:\n",
        "        print('Bagels!')\n",
        "\n",
        "      print(output)\n",
        "\n",
        "      # winning condition\n",
        "      if  output == 'Fermi ' * len(guess_num):\n",
        "        print('YOU WON!!!')\n",
        "        break"
      ],
      "metadata": {
        "colab": {
          "base_uri": "https://localhost:8080/"
        },
        "id": "B6TXL88e53nX",
        "outputId": "5d158d46-29f1-4d02-9235-d787aac599c3"
      },
      "execution_count": null,
      "outputs": [
        {
          "output_type": "stream",
          "name": "stdout",
          "text": [
            "Enter the guess number:- 123\n",
            "Check length of guess number!!!\n",
            "Enter the guess number:- 122\n",
            "Check length of guess number!!!\n",
            "Digit is repeated!!!\n",
            "Enter the guess number:- 432\n",
            "Check length of guess number!!!\n",
            "Enter the guess number:- 1234\n",
            "Pico Pico Pico \n",
            "Enter the guess number:- 2345\n",
            "Fermi Fermi Fermi \n",
            "Enter the guess number:- 2340\n",
            "Fermi Fermi Fermi Fermi \n",
            "YOU WON!!!\n"
          ]
        }
      ]
    },
    {
      "cell_type": "code",
      "execution_count": 1,
      "metadata": {
        "colab": {
          "base_uri": "https://localhost:8080/"
        },
        "id": "MdCr07YPmSyc",
        "outputId": "386f3cb5-e312-4591-e0ac-c53944701006"
      },
      "outputs": [
        {
          "output_type": "stream",
          "name": "stdout",
          "text": [
            "450\n",
            "enter number : 678\n",
            "678  -  ['bagel']\n",
            "enter number : 567\n",
            "567  -  ['1pico', 'bagel']\n",
            "enter number : 679\n",
            "679  -  ['bagel']\n",
            "enter number : 743\n",
            "743  -  ['1pico', 'bagel']\n",
            "enter number : 721\n",
            "721  -  ['bagel']\n",
            "enter number : 456\n",
            "456  -  ['2fermi', 'bagel']\n",
            "enter number : 567\n",
            "567  -  ['1pico', 'bagel']\n",
            "enter number : 459\n",
            "459  -  ['2fermi', 'bagel']\n",
            "enter number : 450\n",
            "450  -  ['3fermi']\n",
            "you won! \n"
          ]
        }
      ],
      "source": [
        "import random\n",
        "gen_num=random.randint(100,1000)\n",
        "gen_num=str(gen_num)\n",
        "print(gen_num)\n",
        "while True:\n",
        "  num=input(\"enter number : \")\n",
        "  add_result=[]\n",
        "  if num[0] in gen_num:\n",
        "    add_result.append(\"pico\")\n",
        "    if num[0]==gen_num[0]:\n",
        "      add_result[0]=\"fermi\"\n",
        "  else:\n",
        "    add_result.append(\"bagel\")\n",
        "\n",
        "  if num[1] in gen_num:\n",
        "    add_result.append(\"pico\")\n",
        "    if num[1]==gen_num[1]:\n",
        "      add_result[1]=\"fermi\"\n",
        "  else:\n",
        "    add_result.append(\"bagel\")\n",
        "\n",
        "  if num[2] in gen_num:\n",
        "    add_result.append(\"pico\")\n",
        "    if num[2]==gen_num[2]:\n",
        "      add_result[2]=\"fermi\"\n",
        "  else:\n",
        "    add_result.append(\"bagel\")\n",
        "\n",
        "  disp=\"\"\n",
        "  if \"pico\" in add_result:\n",
        "    number=str(add_result.count(\"pico\"))+\"pico\"\n",
        "    while 'pico' in add_result:\n",
        "      add_result.remove('pico')\n",
        "    add_result.append(number)\n",
        "\n",
        "  if \"fermi\" in add_result:\n",
        "    number=str(add_result.count(\"fermi\"))+\"fermi\"\n",
        "    while 'fermi' in add_result:\n",
        "      add_result.remove('fermi')\n",
        "    add_result.append(number)\n",
        "\n",
        "  if \"bagel\" in add_result:\n",
        "    number=str(add_result.count(\"bagel\"))+\"bagel\"\n",
        "    while 'bagel' in add_result:\n",
        "      add_result.remove('bagel')\n",
        "    add_result.append(\"bagel\")\n",
        "\n",
        "  print(num[0]+num[1]+num[2],\" - \",add_result)\n",
        "  if add_result==[\"3fermi\"]:\n",
        "    print(\"you won! \")\n",
        "    break"
      ]
    },
    {
      "cell_type": "code",
      "source": [],
      "metadata": {
        "id": "xRUIpR96m1JE"
      },
      "execution_count": null,
      "outputs": []
    }
  ]
}